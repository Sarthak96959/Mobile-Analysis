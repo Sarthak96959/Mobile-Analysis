{
 "cells": [
  {
   "cell_type": "code",
   "execution_count": 1,
   "id": "5be3906e",
   "metadata": {},
   "outputs": [],
   "source": [
    "from bs4 import BeautifulSoup\n",
    "import csv\n",
    "\n",
    "# Read the HTML file\n",
    "with open('mobile.html', 'r', encoding='utf-8') as file:\n",
    "    html_content = file.read()\n",
    "\n",
    "# Parse the HTML content with BeautifulSoup\n",
    "soup = BeautifulSoup(html_content, 'html.parser')\n",
    "\n",
    "# Find all divs with the specified class and data-tkid\n",
    "divs = soup.find_all('div', class_='tUxRFH', attrs={'data-tkid': 'en_DpZ-b-GB4PGkozr5CmmsyLzWdxeKTtV0gGe2KMYIYbqN9ZXHLP3qN6C0Y8W47UzYFaq5Tzib0zLV4t4M08SzMw=='})\n",
    "\n",
    "# Prepare a list to hold the extracted data\n",
    "data = []\n",
    "\n",
    "for div in divs:\n",
    "    # Initialize variables\n",
    "    product_name = \"\"\n",
    "    price = \"\"\n",
    "    rating = \"\"\n",
    "    details = \"\"\n",
    "\n",
    "    # Extract product_name\n",
    "    product_div = div.find('div', class_='KzDlHZ')\n",
    "    if product_div:\n",
    "        product_name = product_div.text.strip()\n",
    "\n",
    "    # Extract price\n",
    "    price_div = div.find('div', class_='Nx9bqj _4b5DiR')\n",
    "    if price_div:\n",
    "        price = price_div.text.strip()\n",
    "\n",
    "    # Extract rating\n",
    "    rating_div = div.find('div', class_='XQDdHH')\n",
    "    if rating_div:\n",
    "        rating = rating_div.text.strip()\n",
    "\n",
    "    # Extract details\n",
    "    details_div = div.find('div', class_='_6NESgJ')\n",
    "    if details_div:\n",
    "        details = details_div.text.strip()\n",
    "\n",
    "    # Append the extracted data to the list\n",
    "    data.append([product_name, price, rating, details])\n",
    "\n",
    "# Write the data to a CSV file\n",
    "with open('mobile_products.csv', 'w', newline='', encoding='utf-8') as csvfile:\n",
    "    csvwriter = csv.writer(csvfile)\n",
    "    csvwriter.writerow(['Product Name', 'Price', 'Rating', 'Details'])\n",
    "    csvwriter.writerows(data)\n"
   ]
  },
  {
   "cell_type": "code",
   "execution_count": null,
   "id": "7a20d4a6",
   "metadata": {},
   "outputs": [],
   "source": []
  }
 ],
 "metadata": {
  "kernelspec": {
   "display_name": "Python 3 (ipykernel)",
   "language": "python",
   "name": "python3"
  },
  "language_info": {
   "codemirror_mode": {
    "name": "ipython",
    "version": 3
   },
   "file_extension": ".py",
   "mimetype": "text/x-python",
   "name": "python",
   "nbconvert_exporter": "python",
   "pygments_lexer": "ipython3",
   "version": "3.11.5"
  }
 },
 "nbformat": 4,
 "nbformat_minor": 5
}
